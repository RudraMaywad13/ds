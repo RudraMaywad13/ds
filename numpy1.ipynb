{
 "cells": [
  {
   "cell_type": "code",
   "execution_count": 26,
   "id": "0bbbb1c9-174e-408d-b5d6-76e1b552569b",
   "metadata": {},
   "outputs": [],
   "source": [
    "import numpy as np"
   ]
  },
  {
   "cell_type": "code",
   "execution_count": 27,
   "id": "9f1dd3a8-8ecd-4a67-ae2f-16ef1a06939d",
   "metadata": {},
   "outputs": [],
   "source": [
    "import pandas as pd"
   ]
  },
  {
   "cell_type": "code",
   "execution_count": 28,
   "id": "ef15210b-08b3-44a3-888b-1ad1fe077ad2",
   "metadata": {},
   "outputs": [],
   "source": [
    "s = pd.Series([1, 3, 5, np.nan, 6, 8])"
   ]
  },
  {
   "cell_type": "code",
   "execution_count": 29,
   "id": "c2ef147d-d121-4edc-92ee-c1f28aab7ff8",
   "metadata": {},
   "outputs": [
    {
     "data": {
      "text/plain": [
       "0    1.0\n",
       "1    3.0\n",
       "2    5.0\n",
       "3    NaN\n",
       "4    6.0\n",
       "5    8.0\n",
       "dtype: float64"
      ]
     },
     "execution_count": 29,
     "metadata": {},
     "output_type": "execute_result"
    }
   ],
   "source": [
    "s"
   ]
  },
  {
   "cell_type": "code",
   "execution_count": 30,
   "id": "06bbc521-b372-4e24-8164-ec37235d9984",
   "metadata": {},
   "outputs": [],
   "source": [
    "dates = pd.date_range(\"20130101\", periods=6)"
   ]
  },
  {
   "cell_type": "code",
   "execution_count": 31,
   "id": "a2751363-8544-4bc1-9335-7d483ea59bf7",
   "metadata": {},
   "outputs": [
    {
     "data": {
      "text/plain": [
       "DatetimeIndex(['2013-01-01', '2013-01-02', '2013-01-03', '2013-01-04',\n",
       "               '2013-01-05', '2013-01-06'],\n",
       "              dtype='datetime64[ns]', freq='D')"
      ]
     },
     "execution_count": 31,
     "metadata": {},
     "output_type": "execute_result"
    }
   ],
   "source": [
    "dates"
   ]
  },
  {
   "cell_type": "code",
   "execution_count": 32,
   "id": "b1ddc0e8-dfa6-4cbe-9894-5884aa8fc639",
   "metadata": {},
   "outputs": [],
   "source": [
    "df = pd.DataFrame(np.random.randn(6, 4), index=dates, columns=list(\"ABCD\"))"
   ]
  },
  {
   "cell_type": "code",
   "execution_count": 33,
   "id": "59bde5d5-2d49-42df-8069-b0611150d77d",
   "metadata": {},
   "outputs": [
    {
     "data": {
      "text/html": [
       "<div>\n",
       "<style scoped>\n",
       "    .dataframe tbody tr th:only-of-type {\n",
       "        vertical-align: middle;\n",
       "    }\n",
       "\n",
       "    .dataframe tbody tr th {\n",
       "        vertical-align: top;\n",
       "    }\n",
       "\n",
       "    .dataframe thead th {\n",
       "        text-align: right;\n",
       "    }\n",
       "</style>\n",
       "<table border=\"1\" class=\"dataframe\">\n",
       "  <thead>\n",
       "    <tr style=\"text-align: right;\">\n",
       "      <th></th>\n",
       "      <th>A</th>\n",
       "      <th>B</th>\n",
       "      <th>C</th>\n",
       "      <th>D</th>\n",
       "    </tr>\n",
       "  </thead>\n",
       "  <tbody>\n",
       "    <tr>\n",
       "      <th>2013-01-01</th>\n",
       "      <td>1.491723</td>\n",
       "      <td>0.256804</td>\n",
       "      <td>-0.685921</td>\n",
       "      <td>-0.629920</td>\n",
       "    </tr>\n",
       "    <tr>\n",
       "      <th>2013-01-02</th>\n",
       "      <td>0.268038</td>\n",
       "      <td>-0.444889</td>\n",
       "      <td>1.045088</td>\n",
       "      <td>-1.845407</td>\n",
       "    </tr>\n",
       "    <tr>\n",
       "      <th>2013-01-03</th>\n",
       "      <td>-0.859218</td>\n",
       "      <td>0.600395</td>\n",
       "      <td>0.169460</td>\n",
       "      <td>1.275468</td>\n",
       "    </tr>\n",
       "    <tr>\n",
       "      <th>2013-01-04</th>\n",
       "      <td>0.243672</td>\n",
       "      <td>0.069908</td>\n",
       "      <td>0.501439</td>\n",
       "      <td>-0.257155</td>\n",
       "    </tr>\n",
       "    <tr>\n",
       "      <th>2013-01-05</th>\n",
       "      <td>-0.019948</td>\n",
       "      <td>-0.178285</td>\n",
       "      <td>0.368858</td>\n",
       "      <td>-0.518098</td>\n",
       "    </tr>\n",
       "    <tr>\n",
       "      <th>2013-01-06</th>\n",
       "      <td>1.167787</td>\n",
       "      <td>-2.863889</td>\n",
       "      <td>-2.578397</td>\n",
       "      <td>1.291061</td>\n",
       "    </tr>\n",
       "  </tbody>\n",
       "</table>\n",
       "</div>"
      ],
      "text/plain": [
       "                   A         B         C         D\n",
       "2013-01-01  1.491723  0.256804 -0.685921 -0.629920\n",
       "2013-01-02  0.268038 -0.444889  1.045088 -1.845407\n",
       "2013-01-03 -0.859218  0.600395  0.169460  1.275468\n",
       "2013-01-04  0.243672  0.069908  0.501439 -0.257155\n",
       "2013-01-05 -0.019948 -0.178285  0.368858 -0.518098\n",
       "2013-01-06  1.167787 -2.863889 -2.578397  1.291061"
      ]
     },
     "execution_count": 33,
     "metadata": {},
     "output_type": "execute_result"
    }
   ],
   "source": [
    "df"
   ]
  },
  {
   "cell_type": "code",
   "execution_count": 34,
   "id": "3644a1ae-6c32-477c-b509-90c863a8d503",
   "metadata": {},
   "outputs": [],
   "source": [
    "df2 = pd.DataFrame(\n",
    "    {\n",
    "        \"A\": 1.0,\n",
    "        \"B\": pd.Timestamp(\"20130102\"),\n",
    "        \"C\": pd.Series(1, index=list(range(4)), dtype=\"float32\"),\n",
    "        \"D\": np.array([3] * 4, dtype=\"int32\"),\n",
    "        \"E\": pd.Categorical([\"test\", \"train\", \"test\", \"train\"]),\n",
    "        \"F\": \"foo\",\n",
    "    }\n",
    ")"
   ]
  },
  {
   "cell_type": "code",
   "execution_count": 35,
   "id": "9de2aaac-5153-4907-83fd-7ef5248744ac",
   "metadata": {},
   "outputs": [
    {
     "data": {
      "text/html": [
       "<div>\n",
       "<style scoped>\n",
       "    .dataframe tbody tr th:only-of-type {\n",
       "        vertical-align: middle;\n",
       "    }\n",
       "\n",
       "    .dataframe tbody tr th {\n",
       "        vertical-align: top;\n",
       "    }\n",
       "\n",
       "    .dataframe thead th {\n",
       "        text-align: right;\n",
       "    }\n",
       "</style>\n",
       "<table border=\"1\" class=\"dataframe\">\n",
       "  <thead>\n",
       "    <tr style=\"text-align: right;\">\n",
       "      <th></th>\n",
       "      <th>A</th>\n",
       "      <th>B</th>\n",
       "      <th>C</th>\n",
       "      <th>D</th>\n",
       "      <th>E</th>\n",
       "      <th>F</th>\n",
       "    </tr>\n",
       "  </thead>\n",
       "  <tbody>\n",
       "    <tr>\n",
       "      <th>0</th>\n",
       "      <td>1.0</td>\n",
       "      <td>2013-01-02</td>\n",
       "      <td>1.0</td>\n",
       "      <td>3</td>\n",
       "      <td>test</td>\n",
       "      <td>foo</td>\n",
       "    </tr>\n",
       "    <tr>\n",
       "      <th>1</th>\n",
       "      <td>1.0</td>\n",
       "      <td>2013-01-02</td>\n",
       "      <td>1.0</td>\n",
       "      <td>3</td>\n",
       "      <td>train</td>\n",
       "      <td>foo</td>\n",
       "    </tr>\n",
       "    <tr>\n",
       "      <th>2</th>\n",
       "      <td>1.0</td>\n",
       "      <td>2013-01-02</td>\n",
       "      <td>1.0</td>\n",
       "      <td>3</td>\n",
       "      <td>test</td>\n",
       "      <td>foo</td>\n",
       "    </tr>\n",
       "    <tr>\n",
       "      <th>3</th>\n",
       "      <td>1.0</td>\n",
       "      <td>2013-01-02</td>\n",
       "      <td>1.0</td>\n",
       "      <td>3</td>\n",
       "      <td>train</td>\n",
       "      <td>foo</td>\n",
       "    </tr>\n",
       "  </tbody>\n",
       "</table>\n",
       "</div>"
      ],
      "text/plain": [
       "     A          B    C  D      E    F\n",
       "0  1.0 2013-01-02  1.0  3   test  foo\n",
       "1  1.0 2013-01-02  1.0  3  train  foo\n",
       "2  1.0 2013-01-02  1.0  3   test  foo\n",
       "3  1.0 2013-01-02  1.0  3  train  foo"
      ]
     },
     "execution_count": 35,
     "metadata": {},
     "output_type": "execute_result"
    }
   ],
   "source": [
    "df2"
   ]
  },
  {
   "cell_type": "code",
   "execution_count": 36,
   "id": "e8ba3f3b-d192-4ef0-b215-b45b65110a22",
   "metadata": {},
   "outputs": [
    {
     "data": {
      "text/plain": [
       "A          float64\n",
       "B    datetime64[s]\n",
       "C          float32\n",
       "D            int32\n",
       "E         category\n",
       "F           object\n",
       "dtype: object"
      ]
     },
     "execution_count": 36,
     "metadata": {},
     "output_type": "execute_result"
    }
   ],
   "source": [
    "df2.dtypes"
   ]
  },
  {
   "cell_type": "code",
   "execution_count": 37,
   "id": "1150eca3-3ec5-40ca-aded-36dbc3f118f4",
   "metadata": {},
   "outputs": [
    {
     "data": {
      "text/html": [
       "<div>\n",
       "<style scoped>\n",
       "    .dataframe tbody tr th:only-of-type {\n",
       "        vertical-align: middle;\n",
       "    }\n",
       "\n",
       "    .dataframe tbody tr th {\n",
       "        vertical-align: top;\n",
       "    }\n",
       "\n",
       "    .dataframe thead th {\n",
       "        text-align: right;\n",
       "    }\n",
       "</style>\n",
       "<table border=\"1\" class=\"dataframe\">\n",
       "  <thead>\n",
       "    <tr style=\"text-align: right;\">\n",
       "      <th></th>\n",
       "      <th>A</th>\n",
       "      <th>B</th>\n",
       "      <th>C</th>\n",
       "      <th>D</th>\n",
       "    </tr>\n",
       "  </thead>\n",
       "  <tbody>\n",
       "    <tr>\n",
       "      <th>2013-01-01</th>\n",
       "      <td>1.491723</td>\n",
       "      <td>0.256804</td>\n",
       "      <td>-0.685921</td>\n",
       "      <td>-0.629920</td>\n",
       "    </tr>\n",
       "    <tr>\n",
       "      <th>2013-01-02</th>\n",
       "      <td>0.268038</td>\n",
       "      <td>-0.444889</td>\n",
       "      <td>1.045088</td>\n",
       "      <td>-1.845407</td>\n",
       "    </tr>\n",
       "    <tr>\n",
       "      <th>2013-01-03</th>\n",
       "      <td>-0.859218</td>\n",
       "      <td>0.600395</td>\n",
       "      <td>0.169460</td>\n",
       "      <td>1.275468</td>\n",
       "    </tr>\n",
       "    <tr>\n",
       "      <th>2013-01-04</th>\n",
       "      <td>0.243672</td>\n",
       "      <td>0.069908</td>\n",
       "      <td>0.501439</td>\n",
       "      <td>-0.257155</td>\n",
       "    </tr>\n",
       "    <tr>\n",
       "      <th>2013-01-05</th>\n",
       "      <td>-0.019948</td>\n",
       "      <td>-0.178285</td>\n",
       "      <td>0.368858</td>\n",
       "      <td>-0.518098</td>\n",
       "    </tr>\n",
       "  </tbody>\n",
       "</table>\n",
       "</div>"
      ],
      "text/plain": [
       "                   A         B         C         D\n",
       "2013-01-01  1.491723  0.256804 -0.685921 -0.629920\n",
       "2013-01-02  0.268038 -0.444889  1.045088 -1.845407\n",
       "2013-01-03 -0.859218  0.600395  0.169460  1.275468\n",
       "2013-01-04  0.243672  0.069908  0.501439 -0.257155\n",
       "2013-01-05 -0.019948 -0.178285  0.368858 -0.518098"
      ]
     },
     "execution_count": 37,
     "metadata": {},
     "output_type": "execute_result"
    }
   ],
   "source": [
    "df.head()\n"
   ]
  },
  {
   "cell_type": "code",
   "execution_count": 38,
   "id": "85ce267d-dea0-4976-afaa-cfdba445d2d4",
   "metadata": {},
   "outputs": [
    {
     "data": {
      "text/html": [
       "<div>\n",
       "<style scoped>\n",
       "    .dataframe tbody tr th:only-of-type {\n",
       "        vertical-align: middle;\n",
       "    }\n",
       "\n",
       "    .dataframe tbody tr th {\n",
       "        vertical-align: top;\n",
       "    }\n",
       "\n",
       "    .dataframe thead th {\n",
       "        text-align: right;\n",
       "    }\n",
       "</style>\n",
       "<table border=\"1\" class=\"dataframe\">\n",
       "  <thead>\n",
       "    <tr style=\"text-align: right;\">\n",
       "      <th></th>\n",
       "      <th>A</th>\n",
       "      <th>B</th>\n",
       "      <th>C</th>\n",
       "      <th>D</th>\n",
       "    </tr>\n",
       "  </thead>\n",
       "  <tbody>\n",
       "    <tr>\n",
       "      <th>2013-01-02</th>\n",
       "      <td>0.268038</td>\n",
       "      <td>-0.444889</td>\n",
       "      <td>1.045088</td>\n",
       "      <td>-1.845407</td>\n",
       "    </tr>\n",
       "    <tr>\n",
       "      <th>2013-01-03</th>\n",
       "      <td>-0.859218</td>\n",
       "      <td>0.600395</td>\n",
       "      <td>0.169460</td>\n",
       "      <td>1.275468</td>\n",
       "    </tr>\n",
       "    <tr>\n",
       "      <th>2013-01-04</th>\n",
       "      <td>0.243672</td>\n",
       "      <td>0.069908</td>\n",
       "      <td>0.501439</td>\n",
       "      <td>-0.257155</td>\n",
       "    </tr>\n",
       "    <tr>\n",
       "      <th>2013-01-05</th>\n",
       "      <td>-0.019948</td>\n",
       "      <td>-0.178285</td>\n",
       "      <td>0.368858</td>\n",
       "      <td>-0.518098</td>\n",
       "    </tr>\n",
       "    <tr>\n",
       "      <th>2013-01-06</th>\n",
       "      <td>1.167787</td>\n",
       "      <td>-2.863889</td>\n",
       "      <td>-2.578397</td>\n",
       "      <td>1.291061</td>\n",
       "    </tr>\n",
       "  </tbody>\n",
       "</table>\n",
       "</div>"
      ],
      "text/plain": [
       "                   A         B         C         D\n",
       "2013-01-02  0.268038 -0.444889  1.045088 -1.845407\n",
       "2013-01-03 -0.859218  0.600395  0.169460  1.275468\n",
       "2013-01-04  0.243672  0.069908  0.501439 -0.257155\n",
       "2013-01-05 -0.019948 -0.178285  0.368858 -0.518098\n",
       "2013-01-06  1.167787 -2.863889 -2.578397  1.291061"
      ]
     },
     "execution_count": 38,
     "metadata": {},
     "output_type": "execute_result"
    }
   ],
   "source": [
    "df.tail()"
   ]
  },
  {
   "cell_type": "code",
   "execution_count": 39,
   "id": "27e4249e-018c-4e7f-a61a-2126b4dfe760",
   "metadata": {},
   "outputs": [
    {
     "data": {
      "text/plain": [
       "DatetimeIndex(['2013-01-01', '2013-01-02', '2013-01-03', '2013-01-04',\n",
       "               '2013-01-05', '2013-01-06'],\n",
       "              dtype='datetime64[ns]', freq='D')"
      ]
     },
     "execution_count": 39,
     "metadata": {},
     "output_type": "execute_result"
    }
   ],
   "source": [
    "df.index\n"
   ]
  },
  {
   "cell_type": "code",
   "execution_count": 40,
   "id": "dd32b02b-4963-43e9-a9f0-0253931fc693",
   "metadata": {},
   "outputs": [
    {
     "data": {
      "text/plain": [
       "Index(['A', 'B', 'C', 'D'], dtype='object')"
      ]
     },
     "execution_count": 40,
     "metadata": {},
     "output_type": "execute_result"
    }
   ],
   "source": [
    "df.columns\n"
   ]
  },
  {
   "cell_type": "code",
   "execution_count": 41,
   "id": "de9194f8-fd32-4e08-b304-68328e16318b",
   "metadata": {},
   "outputs": [
    {
     "data": {
      "text/plain": [
       "array([[ 1.49172329,  0.25680374, -0.68592065, -0.62991967],\n",
       "       [ 0.26803783, -0.44488909,  1.04508771, -1.84540667],\n",
       "       [-0.85921753,  0.60039531,  0.16946015,  1.27546844],\n",
       "       [ 0.24367205,  0.06990845,  0.50143919, -0.25715454],\n",
       "       [-0.01994758, -0.17828507,  0.36885818, -0.51809787],\n",
       "       [ 1.1677866 , -2.86388868, -2.57839716,  1.29106088]])"
      ]
     },
     "execution_count": 41,
     "metadata": {},
     "output_type": "execute_result"
    }
   ],
   "source": [
    "df.to_numpy()"
   ]
  },
  {
   "cell_type": "code",
   "execution_count": 42,
   "id": "9aa4d6ef-6f1b-4787-bfc4-3b97bb7719ae",
   "metadata": {},
   "outputs": [
    {
     "data": {
      "text/html": [
       "<div>\n",
       "<style scoped>\n",
       "    .dataframe tbody tr th:only-of-type {\n",
       "        vertical-align: middle;\n",
       "    }\n",
       "\n",
       "    .dataframe tbody tr th {\n",
       "        vertical-align: top;\n",
       "    }\n",
       "\n",
       "    .dataframe thead th {\n",
       "        text-align: right;\n",
       "    }\n",
       "</style>\n",
       "<table border=\"1\" class=\"dataframe\">\n",
       "  <thead>\n",
       "    <tr style=\"text-align: right;\">\n",
       "      <th></th>\n",
       "      <th>A</th>\n",
       "      <th>B</th>\n",
       "      <th>C</th>\n",
       "      <th>D</th>\n",
       "    </tr>\n",
       "  </thead>\n",
       "  <tbody>\n",
       "    <tr>\n",
       "      <th>count</th>\n",
       "      <td>6.000000</td>\n",
       "      <td>6.000000</td>\n",
       "      <td>6.000000</td>\n",
       "      <td>6.000000</td>\n",
       "    </tr>\n",
       "    <tr>\n",
       "      <th>mean</th>\n",
       "      <td>0.382009</td>\n",
       "      <td>-0.426659</td>\n",
       "      <td>-0.196579</td>\n",
       "      <td>-0.114008</td>\n",
       "    </tr>\n",
       "    <tr>\n",
       "      <th>std</th>\n",
       "      <td>0.846552</td>\n",
       "      <td>1.246648</td>\n",
       "      <td>1.295776</td>\n",
       "      <td>1.212646</td>\n",
       "    </tr>\n",
       "    <tr>\n",
       "      <th>min</th>\n",
       "      <td>-0.859218</td>\n",
       "      <td>-2.863889</td>\n",
       "      <td>-2.578397</td>\n",
       "      <td>-1.845407</td>\n",
       "    </tr>\n",
       "    <tr>\n",
       "      <th>25%</th>\n",
       "      <td>0.045957</td>\n",
       "      <td>-0.378238</td>\n",
       "      <td>-0.472075</td>\n",
       "      <td>-0.601964</td>\n",
       "    </tr>\n",
       "    <tr>\n",
       "      <th>50%</th>\n",
       "      <td>0.255855</td>\n",
       "      <td>-0.054188</td>\n",
       "      <td>0.269159</td>\n",
       "      <td>-0.387626</td>\n",
       "    </tr>\n",
       "    <tr>\n",
       "      <th>75%</th>\n",
       "      <td>0.942849</td>\n",
       "      <td>0.210080</td>\n",
       "      <td>0.468294</td>\n",
       "      <td>0.892313</td>\n",
       "    </tr>\n",
       "    <tr>\n",
       "      <th>max</th>\n",
       "      <td>1.491723</td>\n",
       "      <td>0.600395</td>\n",
       "      <td>1.045088</td>\n",
       "      <td>1.291061</td>\n",
       "    </tr>\n",
       "  </tbody>\n",
       "</table>\n",
       "</div>"
      ],
      "text/plain": [
       "              A         B         C         D\n",
       "count  6.000000  6.000000  6.000000  6.000000\n",
       "mean   0.382009 -0.426659 -0.196579 -0.114008\n",
       "std    0.846552  1.246648  1.295776  1.212646\n",
       "min   -0.859218 -2.863889 -2.578397 -1.845407\n",
       "25%    0.045957 -0.378238 -0.472075 -0.601964\n",
       "50%    0.255855 -0.054188  0.269159 -0.387626\n",
       "75%    0.942849  0.210080  0.468294  0.892313\n",
       "max    1.491723  0.600395  1.045088  1.291061"
      ]
     },
     "execution_count": 42,
     "metadata": {},
     "output_type": "execute_result"
    }
   ],
   "source": [
    "df.describe()"
   ]
  },
  {
   "cell_type": "code",
   "execution_count": 43,
   "id": "a931ba8e-6c0f-4672-ab78-a2ec483ed0ab",
   "metadata": {},
   "outputs": [
    {
     "data": {
      "text/html": [
       "<div>\n",
       "<style scoped>\n",
       "    .dataframe tbody tr th:only-of-type {\n",
       "        vertical-align: middle;\n",
       "    }\n",
       "\n",
       "    .dataframe tbody tr th {\n",
       "        vertical-align: top;\n",
       "    }\n",
       "\n",
       "    .dataframe thead th {\n",
       "        text-align: right;\n",
       "    }\n",
       "</style>\n",
       "<table border=\"1\" class=\"dataframe\">\n",
       "  <thead>\n",
       "    <tr style=\"text-align: right;\">\n",
       "      <th></th>\n",
       "      <th>2013-01-01</th>\n",
       "      <th>2013-01-02</th>\n",
       "      <th>2013-01-03</th>\n",
       "      <th>2013-01-04</th>\n",
       "      <th>2013-01-05</th>\n",
       "      <th>2013-01-06</th>\n",
       "    </tr>\n",
       "  </thead>\n",
       "  <tbody>\n",
       "    <tr>\n",
       "      <th>A</th>\n",
       "      <td>1.491723</td>\n",
       "      <td>0.268038</td>\n",
       "      <td>-0.859218</td>\n",
       "      <td>0.243672</td>\n",
       "      <td>-0.019948</td>\n",
       "      <td>1.167787</td>\n",
       "    </tr>\n",
       "    <tr>\n",
       "      <th>B</th>\n",
       "      <td>0.256804</td>\n",
       "      <td>-0.444889</td>\n",
       "      <td>0.600395</td>\n",
       "      <td>0.069908</td>\n",
       "      <td>-0.178285</td>\n",
       "      <td>-2.863889</td>\n",
       "    </tr>\n",
       "    <tr>\n",
       "      <th>C</th>\n",
       "      <td>-0.685921</td>\n",
       "      <td>1.045088</td>\n",
       "      <td>0.169460</td>\n",
       "      <td>0.501439</td>\n",
       "      <td>0.368858</td>\n",
       "      <td>-2.578397</td>\n",
       "    </tr>\n",
       "    <tr>\n",
       "      <th>D</th>\n",
       "      <td>-0.629920</td>\n",
       "      <td>-1.845407</td>\n",
       "      <td>1.275468</td>\n",
       "      <td>-0.257155</td>\n",
       "      <td>-0.518098</td>\n",
       "      <td>1.291061</td>\n",
       "    </tr>\n",
       "  </tbody>\n",
       "</table>\n",
       "</div>"
      ],
      "text/plain": [
       "   2013-01-01  2013-01-02  2013-01-03  2013-01-04  2013-01-05  2013-01-06\n",
       "A    1.491723    0.268038   -0.859218    0.243672   -0.019948    1.167787\n",
       "B    0.256804   -0.444889    0.600395    0.069908   -0.178285   -2.863889\n",
       "C   -0.685921    1.045088    0.169460    0.501439    0.368858   -2.578397\n",
       "D   -0.629920   -1.845407    1.275468   -0.257155   -0.518098    1.291061"
      ]
     },
     "execution_count": 43,
     "metadata": {},
     "output_type": "execute_result"
    }
   ],
   "source": [
    "df.T\n"
   ]
  },
  {
   "cell_type": "code",
   "execution_count": 44,
   "id": "8347d877-2413-40e5-9f7c-20de9161cedf",
   "metadata": {},
   "outputs": [
    {
     "data": {
      "text/html": [
       "<div>\n",
       "<style scoped>\n",
       "    .dataframe tbody tr th:only-of-type {\n",
       "        vertical-align: middle;\n",
       "    }\n",
       "\n",
       "    .dataframe tbody tr th {\n",
       "        vertical-align: top;\n",
       "    }\n",
       "\n",
       "    .dataframe thead th {\n",
       "        text-align: right;\n",
       "    }\n",
       "</style>\n",
       "<table border=\"1\" class=\"dataframe\">\n",
       "  <thead>\n",
       "    <tr style=\"text-align: right;\">\n",
       "      <th></th>\n",
       "      <th>D</th>\n",
       "      <th>C</th>\n",
       "      <th>B</th>\n",
       "      <th>A</th>\n",
       "    </tr>\n",
       "  </thead>\n",
       "  <tbody>\n",
       "    <tr>\n",
       "      <th>2013-01-01</th>\n",
       "      <td>-0.629920</td>\n",
       "      <td>-0.685921</td>\n",
       "      <td>0.256804</td>\n",
       "      <td>1.491723</td>\n",
       "    </tr>\n",
       "    <tr>\n",
       "      <th>2013-01-02</th>\n",
       "      <td>-1.845407</td>\n",
       "      <td>1.045088</td>\n",
       "      <td>-0.444889</td>\n",
       "      <td>0.268038</td>\n",
       "    </tr>\n",
       "    <tr>\n",
       "      <th>2013-01-03</th>\n",
       "      <td>1.275468</td>\n",
       "      <td>0.169460</td>\n",
       "      <td>0.600395</td>\n",
       "      <td>-0.859218</td>\n",
       "    </tr>\n",
       "    <tr>\n",
       "      <th>2013-01-04</th>\n",
       "      <td>-0.257155</td>\n",
       "      <td>0.501439</td>\n",
       "      <td>0.069908</td>\n",
       "      <td>0.243672</td>\n",
       "    </tr>\n",
       "    <tr>\n",
       "      <th>2013-01-05</th>\n",
       "      <td>-0.518098</td>\n",
       "      <td>0.368858</td>\n",
       "      <td>-0.178285</td>\n",
       "      <td>-0.019948</td>\n",
       "    </tr>\n",
       "    <tr>\n",
       "      <th>2013-01-06</th>\n",
       "      <td>1.291061</td>\n",
       "      <td>-2.578397</td>\n",
       "      <td>-2.863889</td>\n",
       "      <td>1.167787</td>\n",
       "    </tr>\n",
       "  </tbody>\n",
       "</table>\n",
       "</div>"
      ],
      "text/plain": [
       "                   D         C         B         A\n",
       "2013-01-01 -0.629920 -0.685921  0.256804  1.491723\n",
       "2013-01-02 -1.845407  1.045088 -0.444889  0.268038\n",
       "2013-01-03  1.275468  0.169460  0.600395 -0.859218\n",
       "2013-01-04 -0.257155  0.501439  0.069908  0.243672\n",
       "2013-01-05 -0.518098  0.368858 -0.178285 -0.019948\n",
       "2013-01-06  1.291061 -2.578397 -2.863889  1.167787"
      ]
     },
     "execution_count": 44,
     "metadata": {},
     "output_type": "execute_result"
    }
   ],
   "source": [
    "df.sort_index(axis=1, ascending=False)"
   ]
  },
  {
   "cell_type": "code",
   "execution_count": 45,
   "id": "ec298239-aedf-47e4-a6f1-7987ff0ec0cb",
   "metadata": {},
   "outputs": [
    {
     "data": {
      "text/html": [
       "<div>\n",
       "<style scoped>\n",
       "    .dataframe tbody tr th:only-of-type {\n",
       "        vertical-align: middle;\n",
       "    }\n",
       "\n",
       "    .dataframe tbody tr th {\n",
       "        vertical-align: top;\n",
       "    }\n",
       "\n",
       "    .dataframe thead th {\n",
       "        text-align: right;\n",
       "    }\n",
       "</style>\n",
       "<table border=\"1\" class=\"dataframe\">\n",
       "  <thead>\n",
       "    <tr style=\"text-align: right;\">\n",
       "      <th></th>\n",
       "      <th>A</th>\n",
       "      <th>B</th>\n",
       "      <th>C</th>\n",
       "      <th>D</th>\n",
       "    </tr>\n",
       "  </thead>\n",
       "  <tbody>\n",
       "    <tr>\n",
       "      <th>2013-01-06</th>\n",
       "      <td>1.167787</td>\n",
       "      <td>-2.863889</td>\n",
       "      <td>-2.578397</td>\n",
       "      <td>1.291061</td>\n",
       "    </tr>\n",
       "    <tr>\n",
       "      <th>2013-01-02</th>\n",
       "      <td>0.268038</td>\n",
       "      <td>-0.444889</td>\n",
       "      <td>1.045088</td>\n",
       "      <td>-1.845407</td>\n",
       "    </tr>\n",
       "    <tr>\n",
       "      <th>2013-01-05</th>\n",
       "      <td>-0.019948</td>\n",
       "      <td>-0.178285</td>\n",
       "      <td>0.368858</td>\n",
       "      <td>-0.518098</td>\n",
       "    </tr>\n",
       "    <tr>\n",
       "      <th>2013-01-04</th>\n",
       "      <td>0.243672</td>\n",
       "      <td>0.069908</td>\n",
       "      <td>0.501439</td>\n",
       "      <td>-0.257155</td>\n",
       "    </tr>\n",
       "    <tr>\n",
       "      <th>2013-01-01</th>\n",
       "      <td>1.491723</td>\n",
       "      <td>0.256804</td>\n",
       "      <td>-0.685921</td>\n",
       "      <td>-0.629920</td>\n",
       "    </tr>\n",
       "    <tr>\n",
       "      <th>2013-01-03</th>\n",
       "      <td>-0.859218</td>\n",
       "      <td>0.600395</td>\n",
       "      <td>0.169460</td>\n",
       "      <td>1.275468</td>\n",
       "    </tr>\n",
       "  </tbody>\n",
       "</table>\n",
       "</div>"
      ],
      "text/plain": [
       "                   A         B         C         D\n",
       "2013-01-06  1.167787 -2.863889 -2.578397  1.291061\n",
       "2013-01-02  0.268038 -0.444889  1.045088 -1.845407\n",
       "2013-01-05 -0.019948 -0.178285  0.368858 -0.518098\n",
       "2013-01-04  0.243672  0.069908  0.501439 -0.257155\n",
       "2013-01-01  1.491723  0.256804 -0.685921 -0.629920\n",
       "2013-01-03 -0.859218  0.600395  0.169460  1.275468"
      ]
     },
     "execution_count": 45,
     "metadata": {},
     "output_type": "execute_result"
    }
   ],
   "source": [
    "df.sort_values(by=\"B\")"
   ]
  },
  {
   "cell_type": "code",
   "execution_count": 46,
   "id": "4a28fb72-af6b-47a6-898d-930be5ddfc06",
   "metadata": {},
   "outputs": [
    {
     "data": {
      "text/plain": [
       "2013-01-01    1.491723\n",
       "2013-01-02    0.268038\n",
       "2013-01-03   -0.859218\n",
       "2013-01-04    0.243672\n",
       "2013-01-05   -0.019948\n",
       "2013-01-06    1.167787\n",
       "Freq: D, Name: A, dtype: float64"
      ]
     },
     "execution_count": 46,
     "metadata": {},
     "output_type": "execute_result"
    }
   ],
   "source": [
    "df[\"A\"]\n"
   ]
  },
  {
   "cell_type": "code",
   "execution_count": 47,
   "id": "b36c5f28-357d-4a89-bea6-ce605af3b721",
   "metadata": {},
   "outputs": [
    {
     "data": {
      "text/html": [
       "<div>\n",
       "<style scoped>\n",
       "    .dataframe tbody tr th:only-of-type {\n",
       "        vertical-align: middle;\n",
       "    }\n",
       "\n",
       "    .dataframe tbody tr th {\n",
       "        vertical-align: top;\n",
       "    }\n",
       "\n",
       "    .dataframe thead th {\n",
       "        text-align: right;\n",
       "    }\n",
       "</style>\n",
       "<table border=\"1\" class=\"dataframe\">\n",
       "  <thead>\n",
       "    <tr style=\"text-align: right;\">\n",
       "      <th></th>\n",
       "      <th>A</th>\n",
       "      <th>B</th>\n",
       "      <th>C</th>\n",
       "      <th>D</th>\n",
       "    </tr>\n",
       "  </thead>\n",
       "  <tbody>\n",
       "    <tr>\n",
       "      <th>2013-01-01</th>\n",
       "      <td>1.491723</td>\n",
       "      <td>0.256804</td>\n",
       "      <td>-0.685921</td>\n",
       "      <td>-0.629920</td>\n",
       "    </tr>\n",
       "    <tr>\n",
       "      <th>2013-01-02</th>\n",
       "      <td>0.268038</td>\n",
       "      <td>-0.444889</td>\n",
       "      <td>1.045088</td>\n",
       "      <td>-1.845407</td>\n",
       "    </tr>\n",
       "    <tr>\n",
       "      <th>2013-01-03</th>\n",
       "      <td>-0.859218</td>\n",
       "      <td>0.600395</td>\n",
       "      <td>0.169460</td>\n",
       "      <td>1.275468</td>\n",
       "    </tr>\n",
       "  </tbody>\n",
       "</table>\n",
       "</div>"
      ],
      "text/plain": [
       "                   A         B         C         D\n",
       "2013-01-01  1.491723  0.256804 -0.685921 -0.629920\n",
       "2013-01-02  0.268038 -0.444889  1.045088 -1.845407\n",
       "2013-01-03 -0.859218  0.600395  0.169460  1.275468"
      ]
     },
     "execution_count": 47,
     "metadata": {},
     "output_type": "execute_result"
    }
   ],
   "source": [
    "df[0:3]\n"
   ]
  },
  {
   "cell_type": "code",
   "execution_count": 48,
   "id": "0957b479-79d1-458f-84f5-b291ce1924bf",
   "metadata": {},
   "outputs": [
    {
     "data": {
      "text/html": [
       "<div>\n",
       "<style scoped>\n",
       "    .dataframe tbody tr th:only-of-type {\n",
       "        vertical-align: middle;\n",
       "    }\n",
       "\n",
       "    .dataframe tbody tr th {\n",
       "        vertical-align: top;\n",
       "    }\n",
       "\n",
       "    .dataframe thead th {\n",
       "        text-align: right;\n",
       "    }\n",
       "</style>\n",
       "<table border=\"1\" class=\"dataframe\">\n",
       "  <thead>\n",
       "    <tr style=\"text-align: right;\">\n",
       "      <th></th>\n",
       "      <th>A</th>\n",
       "      <th>B</th>\n",
       "      <th>C</th>\n",
       "      <th>D</th>\n",
       "    </tr>\n",
       "  </thead>\n",
       "  <tbody>\n",
       "    <tr>\n",
       "      <th>2013-01-02</th>\n",
       "      <td>0.268038</td>\n",
       "      <td>-0.444889</td>\n",
       "      <td>1.045088</td>\n",
       "      <td>-1.845407</td>\n",
       "    </tr>\n",
       "    <tr>\n",
       "      <th>2013-01-03</th>\n",
       "      <td>-0.859218</td>\n",
       "      <td>0.600395</td>\n",
       "      <td>0.169460</td>\n",
       "      <td>1.275468</td>\n",
       "    </tr>\n",
       "    <tr>\n",
       "      <th>2013-01-04</th>\n",
       "      <td>0.243672</td>\n",
       "      <td>0.069908</td>\n",
       "      <td>0.501439</td>\n",
       "      <td>-0.257155</td>\n",
       "    </tr>\n",
       "  </tbody>\n",
       "</table>\n",
       "</div>"
      ],
      "text/plain": [
       "                   A         B         C         D\n",
       "2013-01-02  0.268038 -0.444889  1.045088 -1.845407\n",
       "2013-01-03 -0.859218  0.600395  0.169460  1.275468\n",
       "2013-01-04  0.243672  0.069908  0.501439 -0.257155"
      ]
     },
     "execution_count": 48,
     "metadata": {},
     "output_type": "execute_result"
    }
   ],
   "source": [
    "df[\"20130102\":\"20130104\"]\n"
   ]
  },
  {
   "cell_type": "code",
   "execution_count": 49,
   "id": "21e494f9-44bd-4e06-9cc7-b2abcda18f39",
   "metadata": {},
   "outputs": [
    {
     "data": {
      "text/plain": [
       "A    1.491723\n",
       "B    0.256804\n",
       "C   -0.685921\n",
       "D   -0.629920\n",
       "Name: 2013-01-01 00:00:00, dtype: float64"
      ]
     },
     "execution_count": 49,
     "metadata": {},
     "output_type": "execute_result"
    }
   ],
   "source": [
    "df.loc[dates[0]]"
   ]
  },
  {
   "cell_type": "code",
   "execution_count": 50,
   "id": "f2d98ab7-871a-4299-a24b-6729b6d91aa8",
   "metadata": {},
   "outputs": [
    {
     "data": {
      "text/html": [
       "<div>\n",
       "<style scoped>\n",
       "    .dataframe tbody tr th:only-of-type {\n",
       "        vertical-align: middle;\n",
       "    }\n",
       "\n",
       "    .dataframe tbody tr th {\n",
       "        vertical-align: top;\n",
       "    }\n",
       "\n",
       "    .dataframe thead th {\n",
       "        text-align: right;\n",
       "    }\n",
       "</style>\n",
       "<table border=\"1\" class=\"dataframe\">\n",
       "  <thead>\n",
       "    <tr style=\"text-align: right;\">\n",
       "      <th></th>\n",
       "      <th>A</th>\n",
       "      <th>B</th>\n",
       "    </tr>\n",
       "  </thead>\n",
       "  <tbody>\n",
       "    <tr>\n",
       "      <th>2013-01-01</th>\n",
       "      <td>1.491723</td>\n",
       "      <td>0.256804</td>\n",
       "    </tr>\n",
       "    <tr>\n",
       "      <th>2013-01-02</th>\n",
       "      <td>0.268038</td>\n",
       "      <td>-0.444889</td>\n",
       "    </tr>\n",
       "    <tr>\n",
       "      <th>2013-01-03</th>\n",
       "      <td>-0.859218</td>\n",
       "      <td>0.600395</td>\n",
       "    </tr>\n",
       "    <tr>\n",
       "      <th>2013-01-04</th>\n",
       "      <td>0.243672</td>\n",
       "      <td>0.069908</td>\n",
       "    </tr>\n",
       "    <tr>\n",
       "      <th>2013-01-05</th>\n",
       "      <td>-0.019948</td>\n",
       "      <td>-0.178285</td>\n",
       "    </tr>\n",
       "    <tr>\n",
       "      <th>2013-01-06</th>\n",
       "      <td>1.167787</td>\n",
       "      <td>-2.863889</td>\n",
       "    </tr>\n",
       "  </tbody>\n",
       "</table>\n",
       "</div>"
      ],
      "text/plain": [
       "                   A         B\n",
       "2013-01-01  1.491723  0.256804\n",
       "2013-01-02  0.268038 -0.444889\n",
       "2013-01-03 -0.859218  0.600395\n",
       "2013-01-04  0.243672  0.069908\n",
       "2013-01-05 -0.019948 -0.178285\n",
       "2013-01-06  1.167787 -2.863889"
      ]
     },
     "execution_count": 50,
     "metadata": {},
     "output_type": "execute_result"
    }
   ],
   "source": [
    "df.loc[:, [\"A\", \"B\"]]\n"
   ]
  }
 ],
 "metadata": {
  "kernelspec": {
   "display_name": "Python 3 (ipykernel)",
   "language": "python",
   "name": "python3"
  },
  "language_info": {
   "codemirror_mode": {
    "name": "ipython",
    "version": 3
   },
   "file_extension": ".py",
   "mimetype": "text/x-python",
   "name": "python",
   "nbconvert_exporter": "python",
   "pygments_lexer": "ipython3",
   "version": "3.12.3"
  }
 },
 "nbformat": 4,
 "nbformat_minor": 5
}
